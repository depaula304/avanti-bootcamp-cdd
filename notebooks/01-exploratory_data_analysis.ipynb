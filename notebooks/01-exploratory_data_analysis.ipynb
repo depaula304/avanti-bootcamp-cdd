{
 "cells": [
  {
   "cell_type": "markdown",
   "metadata": {
    "tags": []
   },
   "source": [
    "# Análise exploratória de dados"
   ]
  },
  {
   "cell_type": "code",
   "execution_count": 1,
   "metadata": {
    "tags": []
   },
   "outputs": [],
   "source": [
    "import pandas as pd\n",
    "import seaborn as sn"
   ]
  },
  {
   "cell_type": "markdown",
   "metadata": {
    "tags": []
   },
   "source": [
    "## 0. Coleta de Dados"
   ]
  },
  {
   "cell_type": "code",
   "execution_count": 2,
   "metadata": {
    "tags": []
   },
   "outputs": [],
   "source": [
    "fmri = sn.load_dataset('fmri')\n",
    "fmri.to_csv('../data/raw/fmriData.csv', index = False)"
   ]
  },
  {
   "cell_type": "markdown",
   "metadata": {
    "tags": []
   },
   "source": [
    "## 1. Dicionário de dados"
   ]
  },
  {
   "cell_type": "code",
   "execution_count": 3,
   "metadata": {
    "tags": []
   },
   "outputs": [
    {
     "data": {
      "text/plain": [
       "Index(['subject', 'timepoint', 'event', 'region', 'signal'], dtype='object')"
      ]
     },
     "execution_count": 3,
     "metadata": {},
     "output_type": "execute_result"
    }
   ],
   "source": [
    "fmri.columns"
   ]
  },
  {
   "cell_type": "code",
   "execution_count": 4,
   "metadata": {
    "tags": []
   },
   "outputs": [],
   "source": [
    "fmri_dict = pd.DataFrame([\n",
    "    {\n",
    "        'variavel': 'subject',\n",
    "        'descricao': 'A pessoa em que foi realizado o exame',\n",
    "        'tipo': 'qualitativa',\n",
    "        'subtipo': 'nominal', \n",
    "    },{\n",
    "        'variavel': 'timepoint',\n",
    "        'descricao': 'Período no tempo em que foi feito o exame',\n",
    "        'tipo': 'qualitativa',\n",
    "        'subtipo': 'ordinal',\n",
    "    },{\n",
    "        'variavel': 'event',\n",
    "        'descricao': 'Forma como o cérebro foi estimulado para coleta de dados',\n",
    "        'tipo': 'qualitativa',\n",
    "        'subtipo': 'nominal',\n",
    "      },{\n",
    "        'variavel': 'region',\n",
    "        'descricao': 'Região do cérebro examinada',\n",
    "        'tipo': 'qualitativa',\n",
    "        'subtipo': 'nominal',\n",
    "    },{\n",
    "        'variavel': 'signal',\n",
    "        'descricao': 'Representa a atividade cerebral na região determinada',\n",
    "        'tipo': 'quantitativa',\n",
    "        'subtipo': 'contínua',\n",
    "    }\n",
    "])"
   ]
  },
  {
   "cell_type": "code",
   "execution_count": 5,
   "metadata": {
    "tags": []
   },
   "outputs": [
    {
     "data": {
      "text/html": [
       "<div>\n",
       "<style scoped>\n",
       "    .dataframe tbody tr th:only-of-type {\n",
       "        vertical-align: middle;\n",
       "    }\n",
       "\n",
       "    .dataframe tbody tr th {\n",
       "        vertical-align: top;\n",
       "    }\n",
       "\n",
       "    .dataframe thead th {\n",
       "        text-align: right;\n",
       "    }\n",
       "</style>\n",
       "<table border=\"1\" class=\"dataframe\">\n",
       "  <thead>\n",
       "    <tr style=\"text-align: right;\">\n",
       "      <th></th>\n",
       "      <th>variavel</th>\n",
       "      <th>descricao</th>\n",
       "      <th>tipo</th>\n",
       "      <th>subtipo</th>\n",
       "    </tr>\n",
       "  </thead>\n",
       "  <tbody>\n",
       "    <tr>\n",
       "      <th>0</th>\n",
       "      <td>subject</td>\n",
       "      <td>A pessoa em que foi realizado o exame</td>\n",
       "      <td>qualitativa</td>\n",
       "      <td>nominal</td>\n",
       "    </tr>\n",
       "    <tr>\n",
       "      <th>1</th>\n",
       "      <td>timepoint</td>\n",
       "      <td>Período no tempo em que foi feito o exame</td>\n",
       "      <td>qualitativa</td>\n",
       "      <td>ordinal</td>\n",
       "    </tr>\n",
       "    <tr>\n",
       "      <th>2</th>\n",
       "      <td>event</td>\n",
       "      <td>Forma como o cérebro foi estimulado para colet...</td>\n",
       "      <td>qualitativa</td>\n",
       "      <td>nominal</td>\n",
       "    </tr>\n",
       "    <tr>\n",
       "      <th>3</th>\n",
       "      <td>region</td>\n",
       "      <td>Região do cérebro examinada</td>\n",
       "      <td>qualitativa</td>\n",
       "      <td>nominal</td>\n",
       "    </tr>\n",
       "    <tr>\n",
       "      <th>4</th>\n",
       "      <td>signal</td>\n",
       "      <td>Representa a atividade cerebral na região dete...</td>\n",
       "      <td>quantitativa</td>\n",
       "      <td>contínua</td>\n",
       "    </tr>\n",
       "  </tbody>\n",
       "</table>\n",
       "</div>"
      ],
      "text/plain": [
       "    variavel                                          descricao          tipo  \\\n",
       "0    subject              A pessoa em que foi realizado o exame   qualitativa   \n",
       "1  timepoint          Período no tempo em que foi feito o exame   qualitativa   \n",
       "2      event  Forma como o cérebro foi estimulado para colet...   qualitativa   \n",
       "3     region                        Região do cérebro examinada   qualitativa   \n",
       "4     signal  Representa a atividade cerebral na região dete...  quantitativa   \n",
       "\n",
       "    subtipo  \n",
       "0   nominal  \n",
       "1   ordinal  \n",
       "2   nominal  \n",
       "3   nominal  \n",
       "4  contínua  "
      ]
     },
     "execution_count": 5,
     "metadata": {},
     "output_type": "execute_result"
    }
   ],
   "source": [
    "fmri_dict"
   ]
  },
  {
   "cell_type": "code",
   "execution_count": 6,
   "metadata": {},
   "outputs": [],
   "source": [
    "fmri_dict.to_csv('../data/external/fmri_dict.csv', index=False)"
   ]
  }
 ],
 "metadata": {
  "kernelspec": {
   "display_name": "Python 3 (ipykernel)",
   "language": "python",
   "name": "python3"
  },
  "language_info": {
   "codemirror_mode": {
    "name": "ipython",
    "version": 3
   },
   "file_extension": ".py",
   "mimetype": "text/x-python",
   "name": "python",
   "nbconvert_exporter": "python",
   "pygments_lexer": "ipython3",
   "version": "3.10.10"
  },
  "vscode": {
   "interpreter": {
    "hash": "eb3c3305d8b111f0102f4f519c5f17abd113fe74db6752c355e994a9008815ef"
   }
  }
 },
 "nbformat": 4,
 "nbformat_minor": 4
}
